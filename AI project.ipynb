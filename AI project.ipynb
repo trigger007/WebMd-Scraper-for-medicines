{
 "cells": [
  {
   "cell_type": "code",
   "execution_count": 1,
   "metadata": {},
   "outputs": [],
   "source": [
    "from bs4 import BeautifulSoup\n",
    "import requests"
   ]
  },
  {
   "cell_type": "code",
   "execution_count": 11,
   "metadata": {},
   "outputs": [
    {
     "name": "stdout",
     "output_type": "stream",
     "text": [
      "None\n"
     ]
    }
   ],
   "source": [
    "url=\"https://www.webmd.com/drugs/2/drug-13821-2204/allegra-oral/fexofenadine-oral/details\"\n",
    "\n",
    "hdr = {'User-Agent': 'Mozilla/5.0 (X11; Linux x86_64) AppleWebKit/537.11 (KHTML, like Gecko) Chrome/23.0.1271.64 Safari/537.11',\n",
    "           'Accept': 'text/html,application/xhtml+xml,application/xml;q=0.9,*/*;q=0.8',\n",
    "           'Accept-Charset': 'ISO-8859-1,utf-8;q=0.7,*;q=0.3',\n",
    "           'Accept-Encoding': 'none',\n",
    "           'Accept-Language': 'en-US,en;q=0.8',\n",
    "           'Connection': 'keep-alive'}\n",
    " \n",
    "br=requests.get(url,headers=hdr)\n",
    "soup=BeautifulSoup(br.text,\"html.parser\")\n",
    "s2=soup.find('div',{\"class\":\"expand-content\"})\n",
    "print(s2.find('a').href)\n"
   ]
  },
  {
   "cell_type": "code",
   "execution_count": 16,
   "metadata": {},
   "outputs": [
    {
     "name": "stdout",
     "output_type": "stream",
     "text": [
      "Uses\n",
      "Side Effects\n",
      "Precautions\n",
      "Interactions\n",
      "Overdose\n"
     ]
    }
   ],
   "source": [
    "l=[]\n",
    "links=soup.find_all('h2')\n",
    "for i in links:\n",
    "    l.append(i.text)"
   ]
  },
  {
   "cell_type": "code",
   "execution_count": 27,
   "metadata": {},
   "outputs": [
    {
     "name": "stdout",
     "output_type": "stream",
     "text": [
      "Uses\n"
     ]
    }
   ],
   "source": [
    "print(l[0])"
   ]
  },
  {
   "cell_type": "code",
   "execution_count": 19,
   "metadata": {},
   "outputs": [
    {
     "name": "stdout",
     "output_type": "stream",
     "text": [
      "\n",
      "UsesFexofenadine is an antihistamine used to relieve allergy symptoms such as watery eyes, runny nose, itching eyes/nose, sneezing, hives, and itching. It works by blocking a certain natural substance (histamine) that your body makes during an allergic reaction.\n",
      "How to use Allegra CapsuleIf you are taking the over-the-counter product to self-treat, read all directions on the product package before taking this medication. If you have any questions, consult your pharmacist. If your doctor has prescribed this medication, take it as directed, usually 2 times daily (every 12 hours).If you are using the liquid form of this medication, shake the bottle well before each dose and measure the dose carefully using a special measuring device/spoon. Do not use a household spoon because you may not get the correct dose. Take the tablet/capsule or liquid form of this medication with or without food. If you are using the rapidly-dissolving tablet, take it on an empty stomach. Allow the rapidly-dissolving tablet to dissolve on the tongue and then swallow, with or without water. Do not remove the tablet from the blister pack until right before using.If you need a liquid to take this medication (such as when taking the tablets/capsules), then take this medication with water. Do not take with fruit juices (such as apple, grapefruit, or orange) since they may decrease the absorption of this drug.The dosage is based on your age, medical condition, and response to treatment. Do not increase your dose or take this medication more often than directed.Do not take antacids containing aluminum and magnesium within 2 hours of taking this medication. These antacids can decrease the absorption of fexofenadine.Tell your doctor if your condition does not improve or if it worsens.\n",
      "\n",
      "Related Links\n",
      "What conditions does Allegra Capsule treat?\n",
      "\n",
      "Find Lowest Prices\n",
      "\n",
      "\n",
      "Side EffectsCough, fever, or stomach upset may occur. If any of these effects persist or worsen, tell your doctor or pharmacist promptly.If your doctor has prescribed this medication, remember that he or she has judged that the benefit to you is greater than the risk of side effects. Many people using this medication do not have serious side effects.A very serious allergic reaction to this drug is rare. However, get medical help right away if you notice any symptoms of a serious allergic reaction, including: rash, itching/swelling (especially of the face/tongue/throat), severe dizziness, trouble breathing.This is not a complete list of possible side effects. If you notice other effects not listed above, contact your doctor or pharmacist.In the US -Call your doctor for medical advice about side effects. You may report side effects to FDA at 1-800-FDA-1088 or at www.fda.gov/medwatch.In Canada - Call your doctor for medical advice about side effects. You may report side effects to Health Canada at 1-866-234-2345.\n",
      "Related Links\n",
      "List Allegra Capsule side effects by likelihood and severity.\n",
      "\n",
      "Find Lowest Prices\n",
      "\n",
      "\n",
      "PrecautionsBefore taking fexofenadine, tell your doctor or pharmacist if you are allergic to it; or if you have any other allergies. This product may contain inactive ingredients, which can cause allergic reactions or other problems. Talk to your pharmacist for more details.Before using this medication, tell your doctor or pharmacist your medical history, especially of: kidney disease.Before having surgery, tell your doctor or dentist about all the products you use (including prescription drugs, nonprescription drugs, and herbal products).Liquid products may contain sugar. The rapidly-dissolving tablets may contain aspartame. Caution is advised if you have diabetes, phenylketonuria (PKU), or any other condition that requires you to limit/avoid these substances in your diet. Ask your doctor or pharmacist about using this product safely.During pregnancy, this medication should be used only when clearly needed. Discuss the risks and benefits with your doctor.This medication passes into breast milk. Consult your doctor before breast-feeding.\n",
      "Related Links\n",
      "What should I know regarding pregnancy, nursing and administering Allegra Capsule to children or the elderly?\n",
      "\n",
      "Find Lowest Prices\n",
      "\n",
      "\n",
      "InteractionsSee also How to Use section.Drug interactions may change how your medications work or increase your risk for serious side effects. This document does not contain all possible drug interactions. Keep a list of all the products you use (including prescription/nonprescription drugs and herbal products) and share it with your doctor and pharmacist. Do not start, stop, or change the dosage of any medicines without your doctor's approval.This medication may interfere with certain laboratory tests (including allergy skin testing), possibly causing false test results. Make sure laboratory personnel and all your doctors know you use this drug.\n",
      "Related Links\n",
      "Does Allegra Capsule interact with other medications?\n",
      "Should I avoid certain foods while taking Allegra Capsule?\n",
      "\n",
      "Find Lowest Prices\n",
      "\n",
      "\n",
      "OverdoseIf someone has overdosed and has serious symptoms such as passing out or trouble breathing, call 911. Otherwise, call a poison control center right away. US residents can call their local poison control center at 1-800-222-1222. Canada residents can call a provincial poison control center.NotesKeep all regular medical and laboratory appointments.Missed DoseIf you miss a dose, take it as soon as you remember. If it is near the time of the next dose, skip the missed dose. Take your next dose at the regular time. Do not double the dose to catch up.StorageStore at room temperature away from light and moisture. Do not store in the bathroom. Different brands of this medication may have different storage needs. Check the product package for instructions on how to store your brand, or ask your pharmacist. Keep all medications away from children and pets.Do not flush medications down the toilet or pour them into a drain unless instructed to do so. Properly discard this product when it is expired or no longer needed. Consult your pharmacist or local waste disposal company.Information last revised June 2018. Copyright(c) 2018 First Databank, Inc.Find Lowest Prices\n",
      "\n",
      "\n",
      "\n",
      "\n",
      "Sorry. No images are available for this medication.\n",
      "\n",
      "\n",
      "\n"
     ]
    }
   ],
   "source": [
    "l1=[]\n",
    "content=soup.find_all('div',{'class':'inner-content'})\n",
    "for i in content:\n",
    "    l1.append(i.text)"
   ]
  },
  {
   "cell_type": "code",
   "execution_count": 38,
   "metadata": {},
   "outputs": [
    {
     "name": "stdout",
     "output_type": "stream",
     "text": [
      "Uses\n",
      "UsesFexofenadine is an antihistamine used to relieve allergy symptoms such as watery eyes, runny nose, itching eyes/nose, sneezing, hives, and itching. It works by blocking a certain natural substance (histamine) that your body makes during an allergic reaction.\n",
      "How to use Allegra CapsuleIf you are taking the over-the-counter product to self-treat, read all directions on the product package before taking this medication. If you have any questions, consult your pharmacist. If your doctor has prescribed this medication, take it as directed, usually 2 times daily (every 12 hours).If you are using the liquid form of this medication, shake the bottle well before each dose and measure the dose carefully using a special measuring device/spoon. Do not use a household spoon because you may not get the correct dose. Take the tablet/capsule or liquid form of this medication with or without food. If you are using the rapidly-dissolving tablet, take it on an empty stomach. Allow the rapidly-dissolving tablet to dissolve on the tongue and then swallow, with or without water. Do not remove the tablet from the blister pack until right before using.If you need a liquid to take this medication (such as when taking the tablets/capsules), then take this medication with water. Do not take with fruit juices (such as apple, grapefruit, or orange) since they may decrease the absorption of this drug.The dosage is based on your age, medical condition, and response to treatment. Do not increase your dose or take this medication more often than directed.Do not take antacids containing aluminum and magnesium within 2 hours of taking this medication. These antacids can decrease the absorption of fexofenadine.Tell your doctor if your condition does not improve or if it worsens.\n",
      "\n",
      "Side Effects\n",
      "Side EffectsCough, fever, or stomach upset may occur. If any of these effects persist or worsen, tell your doctor or pharmacist promptly.If your doctor has prescribed this medication, remember that he or she has judged that the benefit to you is greater than the risk of side effects. Many people using this medication do not have serious side effects.A very serious allergic reaction to this drug is rare. However, get medical help right away if you notice any symptoms of a serious allergic reaction, including: rash, itching/swelling (especially of the face/tongue/throat), severe dizziness, trouble breathing.This is not a complete list of possible side effects. If you notice other effects not listed above, contact your doctor or pharmacist.In the US -Call your doctor for medical advice about side effects. You may report side effects to FDA at 1-800-FDA-1088 or at www.fda.gov/medwatch.In Canada - Call your doctor for medical advice about side effects. You may report side effects to Health Canada at 1-866-234-2345.\n",
      "Related Links\n",
      "\n",
      "Precautions\n",
      "PrecautionsBefore taking fexofenadine, tell your doctor or pharmacist if you are allergic to it; or if you have any other allergies. This product may contain inactive ingredients, which can cause allergic reactions or other problems. Talk to your pharmacist for more details.Before using this medication, tell your doctor or pharmacist your medical history, especially of: kidney disease.Before having surgery, tell your doctor or dentist about all the products you use (including prescription drugs, nonprescription drugs, and herbal products).Liquid products may contain sugar. The rapidly-dissolving tablets may contain aspartame. Caution is advised if you have diabetes, phenylketonuria (PKU), or any other condition that requires you to limit/avoid these substances in your diet. Ask your doctor or pharmacist about using this product safely.During pregnancy, this medication should be used only when clearly needed. Discuss the risks and benefits with your doctor.This medication passes into breast milk. Consult your doctor before breast-feeding.\n",
      "Related Links\n",
      "\n",
      "Interactions\n",
      "InteractionsSee also How to Use section.Drug interactions may change how your medications work or increase your risk for serious side effects. This document does not contain all possible drug interactions. Keep a list of all the products you use (including prescription/nonprescription drugs and herbal products) and share it with your doctor and pharmacist. Do not start, stop, or change the dosage of any medicines without your doctor's approval.This medication may interfere with certain laboratory tests (including allergy skin testing), possibly causing false test results. Make sure laboratory personnel and all your doctors know you use this drug.\n",
      "Related Links\n",
      "\n",
      "Overdose\n",
      "OverdoseIf someone has overdosed and has serious symptoms such as passing out or trouble breathing, call 911. Otherwise, call a poison control center right away. US residents can call their local poison control center at 1-800-222-1222. Canada residents can call a provincial poison control center.NotesKeep all regular medical and laboratory appointments.Missed DoseIf you miss a dose, take it as soon as you remember. If it is near the time of the next dose, skip the missed dose. Take your next dose at the regular time. Do not double the dose to catch up.StorageStore at room temperature away from light and moisture. Do not store in the bathroom. Different brands of this medication may have different storage needs. Check the product package for instructions on how to store your brand, or ask your pharmacist. Keep all medications away from children and pets.Do not flush medications down the toilet or pour them into a drain unless instructed to do so. Properly discard this product when it is expired or no longer needed. Consult your pharmacist or local waste disposal company.Information last revised June 2018. Copyright(c) 2018 First Databank, Inc.Find Lowest Prices\n",
      "\n",
      "\n"
     ]
    }
   ],
   "source": [
    "l2=[]\n",
    "m=[]\n",
    "s=''\n",
    "for i in range(len(l1)-1):\n",
    "    m=[]\n",
    "    m=l1[i].split('\\n')\n",
    "    print(l[i])\n",
    "    s=m[1]+'\\n'+m[2]\n",
    "    print(s)\n",
    "    print()\n",
    "    "
   ]
  },
  {
   "cell_type": "code",
   "execution_count": 17,
   "metadata": {},
   "outputs": [],
   "source": [
    "#for script in body.select('script'):\n",
    "#    script.extract()\n",
    "#for script in body.select('meta'):\n",
    "#    script.extract()\n",
    "#for script in body.select('css'):\n",
    "#    script.extract()\n",
    "#for script in body.select('!--'):\n",
    "#    script.extract()\n",
    "#text=body\n",
    "\n",
    "#print(text)"
   ]
  },
  {
   "cell_type": "code",
   "execution_count": null,
   "metadata": {},
   "outputs": [],
   "source": [
    "#soup = BeautifulSoup('<p>This is a slimy text and <i> I am slimer</i></p>')\n",
    "#soup.i.decompose()\n",
    "#print str(soup)\n",
    "#prints '<p>This is a slimy text and</p>'"
   ]
  }
 ],
 "metadata": {
  "kernelspec": {
   "display_name": "Python 3",
   "language": "python",
   "name": "python3"
  },
  "language_info": {
   "codemirror_mode": {
    "name": "ipython",
    "version": 3
   },
   "file_extension": ".py",
   "mimetype": "text/x-python",
   "name": "python",
   "nbconvert_exporter": "python",
   "pygments_lexer": "ipython3",
   "version": "3.7.6"
  }
 },
 "nbformat": 4,
 "nbformat_minor": 4
}
